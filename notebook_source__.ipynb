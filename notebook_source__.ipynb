{
 "cells": [
  {
   "cell_type": "code",
   "execution_count": null,
   "metadata": {
    "_cell_guid": "b1076dfc-b9ad-4769-8c92-a6c4dae69d19",
    "_uuid": "8f2839f25d086af736a60e9eeb907d3b93b6e0e5"
   },
   "outputs": [],
   "source": [
    "# This Python 3 environment comes with many helpful analytics libraries installed\n",
    "# It is defined by the kaggle/python Docker image: https://github.com/kaggle/docker-python\n",
    "# For example, here's several helpful packages to load\n",
    "\n",
    "import numpy as np # linear algebra\n",
    "import pandas as pd # data processing, CSV file I/O (e.g. pd.read_csv)\n",
    "\n",
    "# Input data files are available in the read-only \"../input/\" directory\n",
    "# For example, running this (by clicking run or pressing Shift+Enter) will list all files under the input directory\n",
    "\n",
    "import os\n",
    "for dirname, _, filenames in os.walk('/kaggle/input'):\n",
    "    for filename in filenames:\n",
    "        print(os.path.join(dirname, filename))\n",
    "\n",
    "# You can write up to 5GB to the current directory (/kaggle/working/) that gets preserved as output when you create a version using \"Save & Run All\" \n",
    "# You can also write temporary files to /kaggle/temp/, but they won't be saved outside of the current session"
   ]
  },
  {
   "cell_type": "code",
   "execution_count": null,
   "metadata": {},
   "outputs": [],
   "source": [
    "!pip install jovian --upgrade --quiet"
   ]
  },
  {
   "cell_type": "code",
   "execution_count": 15,
   "metadata": {
    "_cell_guid": "79c7e3d0-c299-4dcb-8224-4455121ee9b0",
    "_uuid": "d629ff2d2480ee46fbb7e2d37f6b5fab8052498a"
   },
   "outputs": [],
   "source": [
    "import torch\n",
    "import jovian\n",
    "import torchvision\n",
    "import matplotlib\n",
    "import torch.nn as nn\n",
    "import pandas as pd\n",
    "import matplotlib.pyplot as plt\n",
    "import seaborn as sns\n",
    "import torch.nn.functional as F\n",
    "from torchvision.datasets.utils import download_url\n",
    "from torch.utils.data import DataLoader, TensorDataset, random_split"
   ]
  },
  {
   "cell_type": "code",
   "execution_count": 69,
   "metadata": {},
   "outputs": [],
   "source": [
    "project_name='02-Wine-Quality-Prediction' # will be used by jovian.commit"
   ]
  },
  {
   "cell_type": "code",
   "execution_count": 9,
   "metadata": {},
   "outputs": [
    {
     "data": {
      "text/html": [
       "<div>\n",
       "<style scoped>\n",
       "    .dataframe tbody tr th:only-of-type {\n",
       "        vertical-align: middle;\n",
       "    }\n",
       "\n",
       "    .dataframe tbody tr th {\n",
       "        vertical-align: top;\n",
       "    }\n",
       "\n",
       "    .dataframe thead th {\n",
       "        text-align: right;\n",
       "    }\n",
       "</style>\n",
       "<table border=\"1\" class=\"dataframe\">\n",
       "  <thead>\n",
       "    <tr style=\"text-align: right;\">\n",
       "      <th></th>\n",
       "      <th>fixed acidity</th>\n",
       "      <th>volatile acidity</th>\n",
       "      <th>citric acid</th>\n",
       "      <th>residual sugar</th>\n",
       "      <th>chlorides</th>\n",
       "      <th>free sulfur dioxide</th>\n",
       "      <th>total sulfur dioxide</th>\n",
       "      <th>density</th>\n",
       "      <th>pH</th>\n",
       "      <th>sulphates</th>\n",
       "      <th>alcohol</th>\n",
       "      <th>quality</th>\n",
       "    </tr>\n",
       "  </thead>\n",
       "  <tbody>\n",
       "    <tr>\n",
       "      <th>0</th>\n",
       "      <td>7.4</td>\n",
       "      <td>0.70</td>\n",
       "      <td>0.00</td>\n",
       "      <td>1.9</td>\n",
       "      <td>0.076</td>\n",
       "      <td>11.0</td>\n",
       "      <td>34.0</td>\n",
       "      <td>0.9978</td>\n",
       "      <td>3.51</td>\n",
       "      <td>0.56</td>\n",
       "      <td>9.4</td>\n",
       "      <td>5</td>\n",
       "    </tr>\n",
       "    <tr>\n",
       "      <th>1</th>\n",
       "      <td>7.8</td>\n",
       "      <td>0.88</td>\n",
       "      <td>0.00</td>\n",
       "      <td>2.6</td>\n",
       "      <td>0.098</td>\n",
       "      <td>25.0</td>\n",
       "      <td>67.0</td>\n",
       "      <td>0.9968</td>\n",
       "      <td>3.20</td>\n",
       "      <td>0.68</td>\n",
       "      <td>9.8</td>\n",
       "      <td>5</td>\n",
       "    </tr>\n",
       "    <tr>\n",
       "      <th>2</th>\n",
       "      <td>7.8</td>\n",
       "      <td>0.76</td>\n",
       "      <td>0.04</td>\n",
       "      <td>2.3</td>\n",
       "      <td>0.092</td>\n",
       "      <td>15.0</td>\n",
       "      <td>54.0</td>\n",
       "      <td>0.9970</td>\n",
       "      <td>3.26</td>\n",
       "      <td>0.65</td>\n",
       "      <td>9.8</td>\n",
       "      <td>5</td>\n",
       "    </tr>\n",
       "    <tr>\n",
       "      <th>3</th>\n",
       "      <td>11.2</td>\n",
       "      <td>0.28</td>\n",
       "      <td>0.56</td>\n",
       "      <td>1.9</td>\n",
       "      <td>0.075</td>\n",
       "      <td>17.0</td>\n",
       "      <td>60.0</td>\n",
       "      <td>0.9980</td>\n",
       "      <td>3.16</td>\n",
       "      <td>0.58</td>\n",
       "      <td>9.8</td>\n",
       "      <td>6</td>\n",
       "    </tr>\n",
       "    <tr>\n",
       "      <th>4</th>\n",
       "      <td>7.4</td>\n",
       "      <td>0.70</td>\n",
       "      <td>0.00</td>\n",
       "      <td>1.9</td>\n",
       "      <td>0.076</td>\n",
       "      <td>11.0</td>\n",
       "      <td>34.0</td>\n",
       "      <td>0.9978</td>\n",
       "      <td>3.51</td>\n",
       "      <td>0.56</td>\n",
       "      <td>9.4</td>\n",
       "      <td>5</td>\n",
       "    </tr>\n",
       "  </tbody>\n",
       "</table>\n",
       "</div>"
      ],
      "text/plain": [
       "   fixed acidity  volatile acidity  citric acid  residual sugar  chlorides  \\\n",
       "0            7.4              0.70         0.00             1.9      0.076   \n",
       "1            7.8              0.88         0.00             2.6      0.098   \n",
       "2            7.8              0.76         0.04             2.3      0.092   \n",
       "3           11.2              0.28         0.56             1.9      0.075   \n",
       "4            7.4              0.70         0.00             1.9      0.076   \n",
       "\n",
       "   free sulfur dioxide  total sulfur dioxide  density    pH  sulphates  \\\n",
       "0                 11.0                  34.0   0.9978  3.51       0.56   \n",
       "1                 25.0                  67.0   0.9968  3.20       0.68   \n",
       "2                 15.0                  54.0   0.9970  3.26       0.65   \n",
       "3                 17.0                  60.0   0.9980  3.16       0.58   \n",
       "4                 11.0                  34.0   0.9978  3.51       0.56   \n",
       "\n",
       "   alcohol  quality  \n",
       "0      9.4        5  \n",
       "1      9.8        5  \n",
       "2      9.8        5  \n",
       "3      9.8        6  \n",
       "4      9.4        5  "
      ]
     },
     "execution_count": 9,
     "metadata": {},
     "output_type": "execute_result"
    }
   ],
   "source": [
    "dataframe_raw = pd.read_csv(\"/kaggle/input/red-wine-quality-cortez-et-al-2009/winequality-red.csv\")\n",
    "dataframe_raw.head()"
   ]
  },
  {
   "cell_type": "code",
   "execution_count": 10,
   "metadata": {},
   "outputs": [
    {
     "data": {
      "text/plain": [
       "(1599, 12)"
      ]
     },
     "execution_count": 10,
     "metadata": {},
     "output_type": "execute_result"
    }
   ],
   "source": [
    "dataframe_raw.shape"
   ]
  },
  {
   "cell_type": "code",
   "execution_count": 11,
   "metadata": {},
   "outputs": [
    {
     "data": {
      "text/plain": [
       "(['fixed acidity',\n",
       "  'volatile acidity',\n",
       "  'citric acid',\n",
       "  'residual sugar',\n",
       "  'chlorides',\n",
       "  'free sulfur dioxide',\n",
       "  'total sulfur dioxide',\n",
       "  'density',\n",
       "  'pH',\n",
       "  'sulphates',\n",
       "  'alcohol'],\n",
       " ['quality'])"
      ]
     },
     "execution_count": 11,
     "metadata": {},
     "output_type": "execute_result"
    }
   ],
   "source": [
    "input_cols=list(dataframe_raw.columns)[:-1]\n",
    "output_cols = ['quality']\n",
    "input_cols,output_cols"
   ]
  },
  {
   "cell_type": "code",
   "execution_count": 17,
   "metadata": {},
   "outputs": [],
   "source": [
    "def dataframe_to_arrays(dataframe):\n",
    "    # Make a copy of the original dataframe\n",
    "    dataframe1 = dataframe_raw.copy(deep=True)\n",
    "    # Convert non-numeric categorical columns to numbers\n",
    "    #for col in categorical_cols:\n",
    "        #dataframe1[col] = dataframe1[col].astype('category').cat.codes\n",
    "    # Extract input & outupts as numpy arrays\n",
    "    inputs_array = dataframe1[input_cols].to_numpy()\n",
    "    targets_array = dataframe1[output_cols].to_numpy()\n",
    "    return inputs_array, targets_array"
   ]
  },
  {
   "cell_type": "code",
   "execution_count": 20,
   "metadata": {},
   "outputs": [
    {
     "data": {
      "text/plain": [
       "(array([[ 7.4  ,  0.7  ,  0.   , ...,  3.51 ,  0.56 ,  9.4  ],\n",
       "        [ 7.8  ,  0.88 ,  0.   , ...,  3.2  ,  0.68 ,  9.8  ],\n",
       "        [ 7.8  ,  0.76 ,  0.04 , ...,  3.26 ,  0.65 ,  9.8  ],\n",
       "        ...,\n",
       "        [ 6.3  ,  0.51 ,  0.13 , ...,  3.42 ,  0.75 , 11.   ],\n",
       "        [ 5.9  ,  0.645,  0.12 , ...,  3.57 ,  0.71 , 10.2  ],\n",
       "        [ 6.   ,  0.31 ,  0.47 , ...,  3.39 ,  0.66 , 11.   ]]),\n",
       " array([[5],\n",
       "        [5],\n",
       "        [5],\n",
       "        ...,\n",
       "        [6],\n",
       "        [5],\n",
       "        [6]]))"
      ]
     },
     "execution_count": 20,
     "metadata": {},
     "output_type": "execute_result"
    }
   ],
   "source": [
    "inputs_array, targets_array = dataframe_to_arrays(dataframe_raw)\n",
    "inputs_array, targets_array"
   ]
  },
  {
   "cell_type": "code",
   "execution_count": 22,
   "metadata": {},
   "outputs": [
    {
     "data": {
      "text/plain": [
       "(tensor([[ 7.4000,  0.7000,  0.0000,  ...,  3.5100,  0.5600,  9.4000],\n",
       "         [ 7.8000,  0.8800,  0.0000,  ...,  3.2000,  0.6800,  9.8000],\n",
       "         [ 7.8000,  0.7600,  0.0400,  ...,  3.2600,  0.6500,  9.8000],\n",
       "         ...,\n",
       "         [ 6.3000,  0.5100,  0.1300,  ...,  3.4200,  0.7500, 11.0000],\n",
       "         [ 5.9000,  0.6450,  0.1200,  ...,  3.5700,  0.7100, 10.2000],\n",
       "         [ 6.0000,  0.3100,  0.4700,  ...,  3.3900,  0.6600, 11.0000]]),\n",
       " tensor([[5.],\n",
       "         [5.],\n",
       "         [5.],\n",
       "         ...,\n",
       "         [6.],\n",
       "         [5.],\n",
       "         [6.]]))"
      ]
     },
     "execution_count": 22,
     "metadata": {},
     "output_type": "execute_result"
    }
   ],
   "source": [
    "inputs = torch.from_numpy(inputs_array).type(torch.float)\n",
    "targets = torch.from_numpy(targets_array).type(torch.float)\n",
    "inputs,targets"
   ]
  },
  {
   "cell_type": "code",
   "execution_count": 30,
   "metadata": {},
   "outputs": [
    {
     "name": "stdout",
     "output_type": "stream",
     "text": [
      "Shape of input tensor and target tensor::   torch.Size([1599, 11]) torch.Size([1599, 1])\n",
      "datatype of input tensor and target tensor::   torch.float32 torch.float32\n"
     ]
    }
   ],
   "source": [
    "print('Shape of input tensor and target tensor::  ',inputs.shape, targets.shape)\n",
    "print('datatype of input tensor and target tensor::  ',inputs.dtype, targets.dtype)"
   ]
  },
  {
   "cell_type": "code",
   "execution_count": 33,
   "metadata": {},
   "outputs": [
    {
     "data": {
      "text/plain": [
       "<torch.utils.data.dataset.TensorDataset at 0x7fe949e50b90>"
      ]
     },
     "execution_count": 33,
     "metadata": {},
     "output_type": "execute_result"
    }
   ],
   "source": [
    "dataset = TensorDataset(inputs, targets)\n",
    "dataset"
   ]
  },
  {
   "cell_type": "code",
   "execution_count": 34,
   "metadata": {},
   "outputs": [],
   "source": [
    "train_ds, val_ds = random_split(dataset, [1300, 299])\n",
    "batch_size=50\n",
    "train_loader = DataLoader(train_ds, batch_size, shuffle=True)\n",
    "val_loader = DataLoader(val_ds, batch_size)"
   ]
  },
  {
   "cell_type": "code",
   "execution_count": 35,
   "metadata": {},
   "outputs": [
    {
     "name": "stdout",
     "output_type": "stream",
     "text": [
      "inputs: tensor([[9.3000e+00, 4.0000e-01, 4.9000e-01, 2.5000e+00, 8.5000e-02, 3.8000e+01,\n",
      "         1.4200e+02, 9.9780e-01, 3.2200e+00, 5.5000e-01, 9.4000e+00],\n",
      "        [1.1600e+01, 5.3000e-01, 6.6000e-01, 3.6500e+00, 1.2100e-01, 6.0000e+00,\n",
      "         1.4000e+01, 9.9780e-01, 3.0500e+00, 7.4000e-01, 1.1500e+01],\n",
      "        [7.9000e+00, 5.4500e-01, 6.0000e-02, 4.0000e+00, 8.7000e-02, 2.7000e+01,\n",
      "         6.1000e+01, 9.9650e-01, 3.3600e+00, 6.7000e-01, 1.0700e+01],\n",
      "        [6.8000e+00, 6.6000e-01, 7.0000e-02, 1.6000e+00, 7.0000e-02, 1.6000e+01,\n",
      "         6.1000e+01, 9.9572e-01, 3.2900e+00, 6.0000e-01, 9.3000e+00],\n",
      "        [1.0300e+01, 2.7000e-01, 5.6000e-01, 1.4000e+00, 4.7000e-02, 3.0000e+00,\n",
      "         8.0000e+00, 9.9471e-01, 3.1600e+00, 5.1000e-01, 1.1800e+01],\n",
      "        [1.0200e+01, 4.4000e-01, 4.2000e-01, 2.0000e+00, 7.1000e-02, 7.0000e+00,\n",
      "         2.0000e+01, 9.9566e-01, 3.1400e+00, 7.9000e-01, 1.1100e+01],\n",
      "        [1.0000e+01, 4.6000e-01, 4.4000e-01, 2.9000e+00, 6.5000e-02, 4.0000e+00,\n",
      "         8.0000e+00, 9.9674e-01, 3.3300e+00, 6.2000e-01, 1.2200e+01],\n",
      "        [1.0200e+01, 6.7000e-01, 3.9000e-01, 1.9000e+00, 5.4000e-02, 6.0000e+00,\n",
      "         1.7000e+01, 9.9760e-01, 3.1700e+00, 4.7000e-01, 1.0000e+01],\n",
      "        [9.2000e+00, 4.3000e-01, 5.2000e-01, 2.3000e+00, 8.3000e-02, 1.4000e+01,\n",
      "         2.3000e+01, 9.9760e-01, 3.3500e+00, 6.1000e-01, 1.1300e+01],\n",
      "        [1.0900e+01, 3.9000e-01, 4.7000e-01, 1.8000e+00, 1.1800e-01, 6.0000e+00,\n",
      "         1.4000e+01, 9.9820e-01, 3.3000e+00, 7.5000e-01, 9.8000e+00],\n",
      "        [9.2000e+00, 5.9000e-01, 2.4000e-01, 3.3000e+00, 1.0100e-01, 2.0000e+01,\n",
      "         4.7000e+01, 9.9880e-01, 3.2600e+00, 6.7000e-01, 9.6000e+00],\n",
      "        [6.6000e+00, 8.0000e-01, 3.0000e-02, 7.8000e+00, 7.9000e-02, 6.0000e+00,\n",
      "         1.2000e+01, 9.9630e-01, 3.5200e+00, 5.0000e-01, 1.2200e+01],\n",
      "        [1.2700e+01, 6.0000e-01, 6.5000e-01, 2.3000e+00, 6.3000e-02, 6.0000e+00,\n",
      "         2.5000e+01, 9.9970e-01, 3.0300e+00, 5.7000e-01, 9.9000e+00],\n",
      "        [6.7000e+00, 6.2000e-01, 2.1000e-01, 1.9000e+00, 7.9000e-02, 8.0000e+00,\n",
      "         6.2000e+01, 9.9700e-01, 3.5200e+00, 5.8000e-01, 9.3000e+00],\n",
      "        [1.1400e+01, 4.6000e-01, 5.0000e-01, 2.7000e+00, 1.2200e-01, 4.0000e+00,\n",
      "         1.7000e+01, 1.0006e+00, 3.1300e+00, 7.0000e-01, 1.0200e+01],\n",
      "        [7.7000e+00, 2.8000e-01, 3.0000e-01, 2.0000e+00, 6.2000e-02, 1.8000e+01,\n",
      "         3.4000e+01, 9.9520e-01, 3.2800e+00, 9.0000e-01, 1.1300e+01],\n",
      "        [7.6000e+00, 4.1000e-01, 4.9000e-01, 2.0000e+00, 8.8000e-02, 1.6000e+01,\n",
      "         4.3000e+01, 9.9800e-01, 3.4800e+00, 6.4000e-01, 9.1000e+00],\n",
      "        [1.0400e+01, 3.4000e-01, 5.8000e-01, 3.7000e+00, 1.7400e-01, 6.0000e+00,\n",
      "         1.6000e+01, 9.9700e-01, 3.1900e+00, 7.0000e-01, 1.1300e+01],\n",
      "        [8.9000e+00, 4.8000e-01, 5.3000e-01, 4.0000e+00, 1.0100e-01, 3.0000e+00,\n",
      "         1.0000e+01, 9.9586e-01, 3.2100e+00, 5.9000e-01, 1.2100e+01],\n",
      "        [1.0400e+01, 2.8000e-01, 5.4000e-01, 2.7000e+00, 1.0500e-01, 5.0000e+00,\n",
      "         1.9000e+01, 9.9880e-01, 3.2500e+00, 6.3000e-01, 9.5000e+00],\n",
      "        [6.5000e+00, 6.1500e-01, 0.0000e+00, 1.9000e+00, 6.5000e-02, 9.0000e+00,\n",
      "         1.8000e+01, 9.9720e-01, 3.4600e+00, 6.5000e-01, 9.2000e+00],\n",
      "        [1.2300e+01, 3.9000e-01, 6.3000e-01, 2.3000e+00, 9.1000e-02, 6.0000e+00,\n",
      "         1.8000e+01, 1.0004e+00, 3.1600e+00, 4.9000e-01, 9.5000e+00],\n",
      "        [7.4000e+00, 3.9000e-01, 4.8000e-01, 2.0000e+00, 8.2000e-02, 1.4000e+01,\n",
      "         6.7000e+01, 9.9720e-01, 3.3400e+00, 5.5000e-01, 9.2000e+00],\n",
      "        [6.7000e+00, 5.4000e-01, 1.3000e-01, 2.0000e+00, 7.6000e-02, 1.5000e+01,\n",
      "         3.6000e+01, 9.9730e-01, 3.6100e+00, 6.4000e-01, 9.8000e+00],\n",
      "        [8.1000e+00, 5.7500e-01, 2.2000e-01, 2.1000e+00, 7.7000e-02, 1.2000e+01,\n",
      "         6.5000e+01, 9.9670e-01, 3.2900e+00, 5.1000e-01, 9.2000e+00],\n",
      "        [7.2000e+00, 6.4500e-01, 0.0000e+00, 1.9000e+00, 9.7000e-02, 1.5000e+01,\n",
      "         3.9000e+01, 9.9675e-01, 3.3700e+00, 5.8000e-01, 9.2000e+00],\n",
      "        [7.0000e+00, 4.2000e-01, 3.5000e-01, 1.6000e+00, 8.8000e-02, 1.6000e+01,\n",
      "         3.9000e+01, 9.9610e-01, 3.3400e+00, 5.5000e-01, 9.2000e+00],\n",
      "        [1.0100e+01, 3.1000e-01, 3.5000e-01, 1.6000e+00, 7.5000e-02, 9.0000e+00,\n",
      "         2.8000e+01, 9.9672e-01, 3.2400e+00, 8.3000e-01, 1.1200e+01],\n",
      "        [1.1100e+01, 3.5000e-01, 4.8000e-01, 3.1000e+00, 9.0000e-02, 5.0000e+00,\n",
      "         2.1000e+01, 9.9860e-01, 3.1700e+00, 5.3000e-01, 1.0500e+01],\n",
      "        [7.9000e+00, 7.2000e-01, 1.7000e-01, 2.6000e+00, 9.6000e-02, 2.0000e+01,\n",
      "         3.8000e+01, 9.9780e-01, 3.4000e+00, 5.3000e-01, 9.5000e+00],\n",
      "        [6.5000e+00, 5.8000e-01, 0.0000e+00, 2.2000e+00, 9.6000e-02, 3.0000e+00,\n",
      "         1.3000e+01, 9.9557e-01, 3.6200e+00, 6.2000e-01, 1.1500e+01],\n",
      "        [7.1000e+00, 7.5000e-01, 1.0000e-02, 2.2000e+00, 5.9000e-02, 1.1000e+01,\n",
      "         1.8000e+01, 9.9242e-01, 3.3900e+00, 4.0000e-01, 1.2800e+01],\n",
      "        [9.0000e+00, 6.6000e-01, 1.7000e-01, 3.0000e+00, 7.7000e-02, 5.0000e+00,\n",
      "         1.3000e+01, 9.9760e-01, 3.2900e+00, 5.5000e-01, 1.0400e+01],\n",
      "        [7.9000e+00, 6.0000e-01, 6.0000e-02, 1.6000e+00, 6.9000e-02, 1.5000e+01,\n",
      "         5.9000e+01, 9.9640e-01, 3.3000e+00, 4.6000e-01, 9.4000e+00],\n",
      "        [8.2000e+00, 5.7000e-01, 2.6000e-01, 2.2000e+00, 6.0000e-02, 2.8000e+01,\n",
      "         6.5000e+01, 9.9590e-01, 3.3000e+00, 4.3000e-01, 1.0100e+01],\n",
      "        [8.8000e+00, 7.0000e-01, 0.0000e+00, 1.7000e+00, 6.9000e-02, 8.0000e+00,\n",
      "         1.9000e+01, 9.9701e-01, 3.3100e+00, 5.3000e-01, 1.0000e+01],\n",
      "        [1.1600e+01, 4.1000e-01, 5.4000e-01, 1.5000e+00, 9.5000e-02, 2.2000e+01,\n",
      "         4.1000e+01, 9.9735e-01, 3.0200e+00, 7.6000e-01, 9.9000e+00],\n",
      "        [7.2000e+00, 6.9500e-01, 1.3000e-01, 2.0000e+00, 7.6000e-02, 1.2000e+01,\n",
      "         2.0000e+01, 9.9546e-01, 3.2900e+00, 5.4000e-01, 1.0100e+01],\n",
      "        [8.8000e+00, 6.1000e-01, 1.4000e-01, 2.4000e+00, 6.7000e-02, 1.0000e+01,\n",
      "         4.2000e+01, 9.9690e-01, 3.1900e+00, 5.9000e-01, 9.5000e+00],\n",
      "        [7.1000e+00, 4.3000e-01, 1.7000e-01, 1.8000e+00, 8.2000e-02, 2.7000e+01,\n",
      "         5.1000e+01, 9.9634e-01, 3.4900e+00, 6.4000e-01, 1.0400e+01],\n",
      "        [7.8000e+00, 5.4500e-01, 1.2000e-01, 2.5000e+00, 6.8000e-02, 1.1000e+01,\n",
      "         3.5000e+01, 9.9600e-01, 3.3400e+00, 6.1000e-01, 1.1600e+01],\n",
      "        [8.5000e+00, 3.7000e-01, 3.2000e-01, 1.8000e+00, 6.6000e-02, 2.6000e+01,\n",
      "         5.1000e+01, 9.9456e-01, 3.3800e+00, 7.2000e-01, 1.1800e+01],\n",
      "        [8.6000e+00, 4.2000e-01, 3.9000e-01, 1.8000e+00, 6.8000e-02, 6.0000e+00,\n",
      "         1.2000e+01, 9.9516e-01, 3.3500e+00, 6.9000e-01, 1.1700e+01],\n",
      "        [1.0800e+01, 3.2000e-01, 4.4000e-01, 1.6000e+00, 6.3000e-02, 1.6000e+01,\n",
      "         3.7000e+01, 9.9850e-01, 3.2200e+00, 7.8000e-01, 1.0000e+01],\n",
      "        [9.7000e+00, 3.1000e-01, 4.7000e-01, 1.6000e+00, 6.2000e-02, 1.3000e+01,\n",
      "         3.3000e+01, 9.9830e-01, 3.2700e+00, 6.6000e-01, 1.0000e+01],\n",
      "        [9.4000e+00, 4.1000e-01, 4.8000e-01, 4.6000e+00, 7.2000e-02, 1.0000e+01,\n",
      "         2.0000e+01, 9.9730e-01, 3.3400e+00, 7.9000e-01, 1.2200e+01],\n",
      "        [8.1000e+00, 7.2000e-01, 9.0000e-02, 2.8000e+00, 8.4000e-02, 1.8000e+01,\n",
      "         4.9000e+01, 9.9940e-01, 3.4300e+00, 7.2000e-01, 1.1100e+01],\n",
      "        [8.8000e+00, 3.0000e-01, 3.8000e-01, 2.3000e+00, 6.0000e-02, 1.9000e+01,\n",
      "         7.2000e+01, 9.9543e-01, 3.3900e+00, 7.2000e-01, 1.1800e+01],\n",
      "        [6.5000e+00, 6.7000e-01, 0.0000e+00, 4.3000e+00, 5.7000e-02, 1.1000e+01,\n",
      "         2.0000e+01, 9.9488e-01, 3.4500e+00, 5.6000e-01, 1.1800e+01],\n",
      "        [8.4000e+00, 3.9000e-01, 1.0000e-01, 1.7000e+00, 7.5000e-02, 6.0000e+00,\n",
      "         2.5000e+01, 9.9581e-01, 3.0900e+00, 4.3000e-01, 9.7000e+00]])\n",
      "targets: tensor([[5.],\n",
      "        [7.],\n",
      "        [6.],\n",
      "        [5.],\n",
      "        [6.],\n",
      "        [7.],\n",
      "        [6.],\n",
      "        [5.],\n",
      "        [6.],\n",
      "        [6.],\n",
      "        [5.],\n",
      "        [5.],\n",
      "        [5.],\n",
      "        [6.],\n",
      "        [5.],\n",
      "        [7.],\n",
      "        [5.],\n",
      "        [6.],\n",
      "        [7.],\n",
      "        [5.],\n",
      "        [5.],\n",
      "        [5.],\n",
      "        [5.],\n",
      "        [5.],\n",
      "        [5.],\n",
      "        [6.],\n",
      "        [5.],\n",
      "        [7.],\n",
      "        [5.],\n",
      "        [5.],\n",
      "        [4.],\n",
      "        [6.],\n",
      "        [5.],\n",
      "        [5.],\n",
      "        [5.],\n",
      "        [6.],\n",
      "        [7.],\n",
      "        [5.],\n",
      "        [5.],\n",
      "        [5.],\n",
      "        [6.],\n",
      "        [6.],\n",
      "        [8.],\n",
      "        [6.],\n",
      "        [6.],\n",
      "        [7.],\n",
      "        [6.],\n",
      "        [6.],\n",
      "        [4.],\n",
      "        [6.]])\n",
      "torch.float32 torch.float32\n"
     ]
    }
   ],
   "source": [
    "for xb, yb in train_loader:\n",
    "    print(\"inputs:\", xb)\n",
    "    print(\"targets:\", yb)\n",
    "    break"
   ]
  },
  {
   "cell_type": "code",
   "execution_count": 38,
   "metadata": {},
   "outputs": [
    {
     "name": "stdout",
     "output_type": "stream",
     "text": [
      "torch.float32 torch.float32\n"
     ]
    }
   ],
   "source": [
    " print(xb.dtype,yb.dtype)"
   ]
  },
  {
   "cell_type": "code",
   "execution_count": 39,
   "metadata": {},
   "outputs": [
    {
     "data": {
      "text/plain": [
       "(11, 1)"
      ]
     },
     "execution_count": 39,
     "metadata": {},
     "output_type": "execute_result"
    }
   ],
   "source": [
    "input_size = len(input_cols)\n",
    "output_size = len(output_cols)\n",
    "input_size,output_size"
   ]
  },
  {
   "cell_type": "code",
   "execution_count": 46,
   "metadata": {},
   "outputs": [],
   "source": [
    "class WineQuality(nn.Module):\n",
    "    def __init__(self):\n",
    "        super().__init__()\n",
    "        self.linear = nn.Linear(input_size,output_size) #???                  # fill this (hint: use input_size & output_size defined above)\n",
    "        \n",
    "    def forward(self, xb): \n",
    "        out = self.linear(xb) #???                          # fill this\n",
    "        return out\n",
    "    \n",
    "    def training_step(self, batch):\n",
    "        inputs, targets = batch \n",
    "        # Generate predictions\n",
    "        out = self(inputs)          \n",
    "        # Calcuate loss\n",
    "        loss = F.l1_loss(out,targets) #???                          # fill this\n",
    "        return loss\n",
    "    \n",
    "    def validation_step(self, batch):\n",
    "        inputs, targets = batch\n",
    "        # Generate predictions\n",
    "        out = self(inputs)\n",
    "        # Calculate loss\n",
    "        loss = F.l1_loss(out,targets) #???                           # fill this    \n",
    "        return {'val_loss': loss.detach()}\n",
    "        \n",
    "    def validation_epoch_end(self, outputs):\n",
    "        batch_losses = [x['val_loss'] for x in outputs]\n",
    "        epoch_loss = torch.stack(batch_losses).mean()   # Combine losses\n",
    "        return {'val_loss': epoch_loss.item()}\n",
    "    \n",
    "    def epoch_end(self, epoch, result, num_epochs):\n",
    "        # Print result every 100th epoch\n",
    "        if (epoch+1) % 100 == 0 or epoch == num_epochs-1:\n",
    "            print(\"Epoch [{}], val_loss: {:.4f}\".format(epoch+1, result['val_loss']))"
   ]
  },
  {
   "cell_type": "code",
   "execution_count": 47,
   "metadata": {},
   "outputs": [],
   "source": [
    "model=WineQuality()"
   ]
  },
  {
   "cell_type": "code",
   "execution_count": 48,
   "metadata": {},
   "outputs": [
    {
     "data": {
      "text/plain": [
       "[Parameter containing:\n",
       " tensor([[ 0.1463,  0.1563, -0.0537,  0.2641,  0.0985,  0.2435,  0.2640, -0.0668,\n",
       "           0.1780, -0.2056,  0.2640]], requires_grad=True),\n",
       " Parameter containing:\n",
       " tensor([0.0162], requires_grad=True)]"
      ]
     },
     "execution_count": 48,
     "metadata": {},
     "output_type": "execute_result"
    }
   ],
   "source": [
    "list(model.parameters())"
   ]
  },
  {
   "cell_type": "code",
   "execution_count": 49,
   "metadata": {},
   "outputs": [],
   "source": [
    "def evaluate(model, val_loader):\n",
    "    outputs = [model.validation_step(batch) for batch in val_loader]\n",
    "    return model.validation_epoch_end(outputs)\n",
    "\n",
    "def fit(epochs, lr, model, train_loader, val_loader, opt_func=torch.optim.SGD):\n",
    "    history = []\n",
    "    optimizer = opt_func(model.parameters(), lr)\n",
    "    for epoch in range(epochs):\n",
    "        # Training Phase \n",
    "        for batch in train_loader:\n",
    "            loss = model.training_step(batch)\n",
    "            loss.backward()\n",
    "            optimizer.step()\n",
    "            optimizer.zero_grad()\n",
    "        # Validation phase\n",
    "        result = evaluate(model, val_loader)\n",
    "        model.epoch_end(epoch, result, epochs)\n",
    "        history.append(result)\n",
    "    return history"
   ]
  },
  {
   "cell_type": "code",
   "execution_count": 50,
   "metadata": {},
   "outputs": [
    {
     "name": "stdout",
     "output_type": "stream",
     "text": [
      "{'val_loss': 15.789398193359375}\n"
     ]
    }
   ],
   "source": [
    "result = evaluate(model, val_loader)#??? # Use the the evaluate function\n",
    "print(result)"
   ]
  },
  {
   "cell_type": "code",
   "execution_count": 51,
   "metadata": {},
   "outputs": [
    {
     "name": "stdout",
     "output_type": "stream",
     "text": [
      "Epoch [100], val_loss: 13.5318\n",
      "Epoch [200], val_loss: 3.7057\n",
      "Epoch [300], val_loss: 10.4144\n",
      "Epoch [400], val_loss: 20.0141\n",
      "Epoch [500], val_loss: 12.0501\n",
      "Epoch [600], val_loss: 12.4557\n",
      "Epoch [700], val_loss: 9.1371\n",
      "Epoch [800], val_loss: 5.6503\n",
      "Epoch [900], val_loss: 20.3145\n",
      "Epoch [1000], val_loss: 8.4462\n"
     ]
    }
   ],
   "source": [
    "epochs = 1000 #???\n",
    "lr = 1e-2    #???\n",
    "history1 = fit(epochs, lr, model, train_loader, val_loader)"
   ]
  },
  {
   "cell_type": "code",
   "execution_count": 52,
   "metadata": {},
   "outputs": [
    {
     "name": "stdout",
     "output_type": "stream",
     "text": [
      "Epoch [100], val_loss: 1.9420\n",
      "Epoch [200], val_loss: 0.9745\n",
      "Epoch [300], val_loss: 0.6104\n",
      "Epoch [400], val_loss: 1.4688\n",
      "Epoch [500], val_loss: 1.7100\n",
      "Epoch [600], val_loss: 1.5763\n",
      "Epoch [700], val_loss: 1.4629\n",
      "Epoch [800], val_loss: 1.0126\n",
      "Epoch [900], val_loss: 1.5602\n",
      "Epoch [1000], val_loss: 1.8191\n"
     ]
    }
   ],
   "source": [
    "epochs = 1000\n",
    "lr = 1e-3\n",
    "history2 = fit(epochs, lr, model, train_loader, val_loader)"
   ]
  },
  {
   "cell_type": "code",
   "execution_count": 53,
   "metadata": {},
   "outputs": [
    {
     "name": "stdout",
     "output_type": "stream",
     "text": [
      "Epoch [100], val_loss: 0.5118\n",
      "Epoch [200], val_loss: 0.5305\n",
      "Epoch [300], val_loss: 0.5128\n",
      "Epoch [400], val_loss: 0.5111\n",
      "Epoch [500], val_loss: 0.5120\n",
      "Epoch [600], val_loss: 0.5092\n",
      "Epoch [700], val_loss: 0.5205\n",
      "Epoch [800], val_loss: 0.5096\n",
      "Epoch [900], val_loss: 0.5076\n",
      "Epoch [1000], val_loss: 0.5074\n"
     ]
    }
   ],
   "source": [
    "epochs = 1000\n",
    "lr = 1e-4\n",
    "history3 = fit(epochs, lr, model, train_loader, val_loader)"
   ]
  },
  {
   "cell_type": "code",
   "execution_count": 54,
   "metadata": {},
   "outputs": [
    {
     "name": "stdout",
     "output_type": "stream",
     "text": [
      "Epoch [100], val_loss: 0.5077\n",
      "Epoch [200], val_loss: 0.5083\n",
      "Epoch [300], val_loss: 0.5081\n",
      "Epoch [400], val_loss: 0.5084\n",
      "Epoch [500], val_loss: 0.5077\n",
      "Epoch [600], val_loss: 0.5077\n",
      "Epoch [700], val_loss: 0.5082\n",
      "Epoch [800], val_loss: 0.5077\n",
      "Epoch [900], val_loss: 0.5080\n",
      "Epoch [1000], val_loss: 0.5080\n"
     ]
    }
   ],
   "source": [
    "epochs = 1000\n",
    "lr = 1e-5\n",
    "history4 = fit(epochs, lr, model, train_loader, val_loader)"
   ]
  },
  {
   "cell_type": "code",
   "execution_count": 59,
   "metadata": {},
   "outputs": [
    {
     "name": "stdout",
     "output_type": "stream",
     "text": [
      "Epoch [100], val_loss: 2.6545\n",
      "Epoch [200], val_loss: 2.5039\n",
      "Epoch [300], val_loss: 2.3609\n",
      "Epoch [400], val_loss: 2.2198\n",
      "Epoch [500], val_loss: 2.0807\n",
      "Epoch [600], val_loss: 1.9441\n",
      "Epoch [700], val_loss: 1.8138\n",
      "Epoch [800], val_loss: 1.6892\n",
      "Epoch [900], val_loss: 1.5679\n",
      "Epoch [1000], val_loss: 1.4524\n",
      "Epoch [1100], val_loss: 1.3439\n",
      "Epoch [1200], val_loss: 1.2383\n",
      "Epoch [1300], val_loss: 1.1367\n",
      "Epoch [1400], val_loss: 1.0420\n",
      "Epoch [1500], val_loss: 0.9537\n"
     ]
    }
   ],
   "source": [
    "#model=WineQuality()\n",
    "epochs = 1500\n",
    "lr = 1e-6\n",
    "history5 = fit(epochs, lr, model, train_loader, val_loader)"
   ]
  },
  {
   "cell_type": "code",
   "execution_count": 60,
   "metadata": {},
   "outputs": [
    {
     "data": {
      "image/png": "[encoded data removed]",
      "text/plain": [
       "<Figure size 432x288 with 1 Axes>"
      ]
     },
     "metadata": {
      "needs_background": "light"
     },
     "output_type": "display_data"
    }
   ],
   "source": [
    "plt.title('val_loss vs. No. of epochs');\n",
    "loss_mat = [res['val_loss'] for res in [result] + history5]\n",
    "plt.plot(loss_mat, '-x')\n",
    "plt.xlabel('epoch')\n",
    "plt.ylabel('val_loss')\n",
    "\n",
    "val_loss = loss_mat[-1]"
   ]
  },
  {
   "cell_type": "code",
   "execution_count": 61,
   "metadata": {},
   "outputs": [],
   "source": [
    "def predict_single(input, target, model):\n",
    "    inputs = input.unsqueeze(0)\n",
    "    predictions = model(inputs)#???                # fill this\n",
    "    prediction = predictions[0].detach()\n",
    "    print(\"Input:\", input)\n",
    "    print(\"Target:\", target)\n",
    "    print(\"Prediction:\", prediction)"
   ]
  },
  {
   "cell_type": "code",
   "execution_count": 63,
   "metadata": {},
   "outputs": [
    {
     "name": "stdout",
     "output_type": "stream",
     "text": [
      "Input: tensor([12.7000,  0.6000,  0.4900,  2.8000,  0.0750,  5.0000, 19.0000,  0.9994,\n",
      "         3.1400,  0.5700, 11.4000])\n",
      "Target: tensor([5.])\n",
      "Prediction: tensor([5.9881])\n"
     ]
    }
   ],
   "source": [
    "input, target = val_ds[10]\n",
    "predict_single(input, target, model)"
   ]
  },
  {
   "cell_type": "code",
   "execution_count": 67,
   "metadata": {},
   "outputs": [
    {
     "name": "stdout",
     "output_type": "stream",
     "text": [
      "Input: tensor([ 9.1000,  0.4500,  0.3500,  2.4000,  0.0800, 23.0000, 78.0000,  0.9987,\n",
      "         3.3800,  0.6200,  9.5000])\n",
      "Target: tensor([5.])\n",
      "Prediction: tensor([5.4455])\n"
     ]
    }
   ],
   "source": [
    "input, target = val_ds[62]\n",
    "predict_single(input, target, model)"
   ]
  },
  {
   "cell_type": "code",
   "execution_count": null,
   "metadata": {},
   "outputs": [
    {
     "data": {
      "application/javascript": [
       "window.require && require([\"base/js/namespace\"],function(Jupyter){Jupyter.notebook.save_checkpoint()})"
      ],
      "text/plain": [
       "<IPython.core.display.Javascript object>"
      ]
     },
     "metadata": {},
     "output_type": "display_data"
    },
    {
     "name": "stdout",
     "output_type": "stream",
     "text": [
      "[jovian] Attempting to save notebook..\u001b[0m\n"
     ]
    }
   ],
   "source": [
    "jovian.commit(project=project_name, environment=None)\n"
   ]
  },
  {
   "cell_type": "code",
   "execution_count": null,
   "metadata": {},
   "outputs": [],
   "source": []
  }
 ],
 "metadata": {
  "language_info": {
   "codemirror_mode": {
    "name": "ipython",
    "version": 3
   },
   "file_extension": ".py",
   "mimetype": "text/x-python",
   "name": "python",
   "nbconvert_exporter": "python",
   "pygments_lexer": "ipython3",
   "version": "3.6.4"
  }
 },
 "nbformat": 4,
 "nbformat_minor": 4
}